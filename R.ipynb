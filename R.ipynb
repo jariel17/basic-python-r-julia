{
 "cells": [
  {
   "cell_type": "code",
   "execution_count": 1,
   "metadata": {
    "vscode": {
     "languageId": "r"
    }
   },
   "outputs": [
    {
     "name": "stdout",
     "output_type": "stream",
     "text": [
      "[1] \"Hola Mundo!\"\n"
     ]
    }
   ],
   "source": [
    "print('Hola Mundo!')"
   ]
  },
  {
   "cell_type": "code",
   "execution_count": 3,
   "metadata": {
    "vscode": {
     "languageId": "r"
    }
   },
   "outputs": [
    {
     "name": "stderr",
     "output_type": "stream",
     "text": [
      "Installing package into ‘/home/tux/R/x86_64-pc-linux-gnu-library/4.1’\n",
      "(as ‘lib’ is unspecified)\n",
      "\n"
     ]
    },
    {
     "name": "stderr",
     "output_type": "stream",
     "text": [
      "also installing the dependencies ‘colorspace’, ‘farver’, ‘labeling’, ‘munsell’, ‘RColorBrewer’, ‘viridisLite’, ‘gtable’, ‘isoband’, ‘scales’\n",
      "\n",
      "\n"
     ]
    }
   ],
   "source": [
    "install.packages(\"ggplot2\")\n",
    "\n",
    "# Load necessary library\n",
    "library(ggplot2)\n",
    "\n",
    "# Generate a random sample\n",
    "data <- rnorm(1000)\n",
    "\n",
    "# Create a data frame\n",
    "df <- data.frame(value = data)\n",
    "\n",
    "# Generate a histogram\n",
    "ggplot(df, aes(x=value)) +\n",
    "  geom_histogram(binwidth=.5, fill=\"white\", color=\"black\") +\n",
    "  labs(title=\"Histogram of Random Sample\", x=\"Value\", y=\"Frequency\") +\n",
    "  theme_minimal()\n"
   ]
  }
 ],
 "metadata": {
  "kernelspec": {
   "display_name": "R",
   "language": "R",
   "name": "ir"
  },
  "language_info": {
   "codemirror_mode": "r",
   "file_extension": ".r",
   "mimetype": "text/x-r-source",
   "name": "R",
   "pygments_lexer": "r",
   "version": "4.1.2"
  }
 },
 "nbformat": 4,
 "nbformat_minor": 2
}

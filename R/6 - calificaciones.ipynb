{
 "cells": [
  {
   "cell_type": "markdown",
   "metadata": {},
   "source": [
    "Se te ha proporcionado un archivo CSV denominado calificaciones.csv que contiene las \n",
    "calificaciones de varios estudiantes en distintas materias. El archivo tiene la siguiente \n",
    "estructura: \n",
    "Nombre, Materia, Calificacion"
   ]
  },
  {
   "cell_type": "code",
   "execution_count": 1,
   "metadata": {
    "vscode": {
     "languageId": "r"
    }
   },
   "outputs": [
    {
     "name": "stderr",
     "output_type": "stream",
     "text": [
      "\n",
      "Attaching package: ‘dplyr’\n",
      "\n",
      "\n",
      "The following objects are masked from ‘package:stats’:\n",
      "\n",
      "    filter, lag\n",
      "\n",
      "\n",
      "The following objects are masked from ‘package:base’:\n",
      "\n",
      "    intersect, setdiff, setequal, union\n",
      "\n",
      "\n",
      "\u001b[1mRows: \u001b[22m\u001b[34m9\u001b[39m \u001b[1mColumns: \u001b[22m\u001b[34m3\u001b[39m\n",
      "\u001b[36m──\u001b[39m \u001b[1mColumn specification\u001b[22m \u001b[36m────────────────────────────────────────────────────────\u001b[39m\n",
      "\u001b[1mDelimiter:\u001b[22m \",\"\n",
      "\u001b[31mchr\u001b[39m (2): Nombre, Materia\n",
      "\u001b[32mdbl\u001b[39m (1): Calificacion\n",
      "\n",
      "\u001b[36mℹ\u001b[39m Use `spec()` to retrieve the full column specification for this data.\n",
      "\u001b[36mℹ\u001b[39m Specify the column types or set `show_col_types = FALSE` to quiet this message.\n"
     ]
    }
   ],
   "source": [
    "# Importamos la biblioteca de readr y dplyr\n",
    "# Leemos los datos del archivo calificaciones.csv y creamos un dataframe\n",
    "\n",
    "library(dplyr)\n",
    "library(readr)\n",
    "\n",
    "df <- read_csv('../data/calificaciones.csv') "
   ]
  },
  {
   "cell_type": "code",
   "execution_count": 2,
   "metadata": {
    "vscode": {
     "languageId": "r"
    }
   },
   "outputs": [
    {
     "name": "stdout",
     "output_type": "stream",
     "text": [
      "DataFrame original: \n",
      "\u001b[90m# A tibble: 9 × 3\u001b[39m\n",
      "  Nombre  Materia     Calificacion\n",
      "  \u001b[3m\u001b[90m<chr>\u001b[39m\u001b[23m   \u001b[3m\u001b[90m<chr>\u001b[39m\u001b[23m              \u001b[3m\u001b[90m<dbl>\u001b[39m\u001b[23m\n",
      "\u001b[90m1\u001b[39m Alice   Matematicas           89\n",
      "\u001b[90m2\u001b[39m Bob     Matematicas           92\n",
      "\u001b[90m3\u001b[39m Charlie Matematicas           85\n",
      "\u001b[90m4\u001b[39m Alice   Fisica                95\n",
      "\u001b[90m5\u001b[39m Bob     Fisica                88\n",
      "\u001b[90m6\u001b[39m Charlie Fisica                91\n",
      "\u001b[90m7\u001b[39m Alice   Quimica               87\n",
      "\u001b[90m8\u001b[39m Bob     Quimica               90\n",
      "\u001b[90m9\u001b[39m Charlie Quimica               94\n"
     ]
    }
   ],
   "source": [
    "# Mostramos el DataFrame original para revisión\n",
    "cat(\"DataFrame original: \\n\")\n",
    "print(df)"
   ]
  },
  {
   "cell_type": "code",
   "execution_count": 3,
   "metadata": {
    "vscode": {
     "languageId": "r"
    }
   },
   "outputs": [
    {
     "name": "stdout",
     "output_type": "stream",
     "text": [
      "[1] \"Promedio por estudiante:\"\n"
     ]
    },
    {
     "name": "stdout",
     "output_type": "stream",
     "text": [
      "\u001b[90m# A tibble: 3 × 2\u001b[39m\n",
      "  Nombre  Calificacion\n",
      "  \u001b[3m\u001b[90m<chr>\u001b[39m\u001b[23m          \u001b[3m\u001b[90m<dbl>\u001b[39m\u001b[23m\n",
      "\u001b[90m1\u001b[39m Alice           90.3\n",
      "\u001b[90m2\u001b[39m Bob             90  \n",
      "\u001b[90m3\u001b[39m Charlie         90  \n"
     ]
    }
   ],
   "source": [
    "# Calculamos y mostramos el promedio de calificaciones por estudiante\n",
    "# Agrupamos por 'Estudiante' y sacamos el promedio de 'Calificacion'\n",
    "df_promedio_estudiante <- df %>%\n",
    "  group_by(Nombre) %>%\n",
    "  summarise(Calificacion = mean(Calificacion, na.rm = TRUE)) %>%\n",
    "  ungroup()\n",
    "\n",
    "print(\"Promedio por estudiante:\")\n",
    "print(df_promedio_estudiante)"
   ]
  },
  {
   "cell_type": "code",
   "execution_count": 4,
   "metadata": {
    "vscode": {
     "languageId": "r"
    }
   },
   "outputs": [
    {
     "name": "stdout",
     "output_type": "stream",
     "text": [
      "[1] \"Promedio de calificaciones por materia:\"\n",
      "\u001b[90m# A tibble: 3 × 2\u001b[39m\n",
      "  Materia     Calificacion\n",
      "  \u001b[3m\u001b[90m<chr>\u001b[39m\u001b[23m              \u001b[3m\u001b[90m<dbl>\u001b[39m\u001b[23m\n",
      "\u001b[90m1\u001b[39m Fisica              91.3\n",
      "\u001b[90m2\u001b[39m Matematicas         88.7\n",
      "\u001b[90m3\u001b[39m Quimica             90.3\n"
     ]
    }
   ],
   "source": [
    "# Calculamos y mostramos el promedio de calificaciones por materia\n",
    "# Agrupamos por 'Materia' y sacamos el promedio de 'Calificacion'\n",
    "\n",
    "df_promedio_materia <- df %>%\n",
    "  group_by(Materia) %>%\n",
    "  summarise(Calificacion = mean(Calificacion, na.rm = TRUE)) %>%\n",
    "  ungroup()\n",
    "\n",
    "print(\"Promedio de calificaciones por materia:\")\n",
    "print(df_promedio_materia)"
   ]
  },
  {
   "cell_type": "code",
   "execution_count": 5,
   "metadata": {
    "vscode": {
     "languageId": "r"
    }
   },
   "outputs": [
    {
     "name": "stdout",
     "output_type": "stream",
     "text": [
      "Estudiantes con al menos una calificacion de 90 o mas:\n",
      "[1] \"Bob\"     \"Alice\"   \"Charlie\"\n"
     ]
    }
   ],
   "source": [
    "# Filtramos el dataframe por los estudiantes que tuvieron una calificacion igual o superior a 90\n",
    "# Imprimimos la lista anterior, agrupada por Nombre de estudiantes\n",
    "\n",
    "df_estudiantes_90 <- df %>% filter(Calificacion >= 90)\n",
    "\n",
    "cat(\"Estudiantes con al menos una calificacion de 90 o mas:\\n\")\n",
    "print(unique(df_estudiantes_90$Nombre))"
   ]
  },
  {
   "cell_type": "code",
   "execution_count": 6,
   "metadata": {
    "vscode": {
     "languageId": "r"
    }
   },
   "outputs": [
    {
     "name": "stdout",
     "output_type": "stream",
     "text": [
      "Estudiantes con la calificacion mas alta por materia:\n",
      "\u001b[90m# A tibble: 3 × 3\u001b[39m\n",
      "\u001b[90m# Groups:   Materia [3]\u001b[39m\n",
      "  Nombre  Materia     Calificacion\n",
      "  \u001b[3m\u001b[90m<chr>\u001b[39m\u001b[23m   \u001b[3m\u001b[90m<chr>\u001b[39m\u001b[23m              \u001b[3m\u001b[90m<dbl>\u001b[39m\u001b[23m\n",
      "\u001b[90m1\u001b[39m Alice   Fisica                95\n",
      "\u001b[90m2\u001b[39m Bob     Matematicas           92\n",
      "\u001b[90m3\u001b[39m Charlie Quimica               94\n"
     ]
    }
   ],
   "source": [
    "# Encontramos y buscamos al estudiante con la calificacion mas alta de cada materia\n",
    "# Agrupamos el dataframe por materia, luego buscamos el indice del valor mas alto de las calificaciones con idmax()\n",
    "# Con los indices obtenidos, buscamos estos indices en el dataframe con loc()\n",
    "\n",
    "estudiantes_sobresalientes <- df %>%\n",
    "  group_by(Materia) %>%\n",
    "  slice(which.max(Calificacion))\n",
    "\n",
    "cat(\"Estudiantes con la calificacion mas alta por materia:\\n\")\n",
    "print(estudiantes_sobresalientes)"
   ]
  },
  {
   "cell_type": "code",
   "execution_count": 7,
   "metadata": {
    "vscode": {
     "languageId": "r"
    }
   },
   "outputs": [
    {
     "name": "stdout",
     "output_type": "stream",
     "text": [
      "Promedio por estudiante:\n",
      "\u001b[90m# A tibble: 3 × 2\u001b[39m\n",
      "  Nombre  Calificacion\n",
      "  \u001b[3m\u001b[90m<chr>\u001b[39m\u001b[23m          \u001b[3m\u001b[90m<dbl>\u001b[39m\u001b[23m\n",
      "\u001b[90m1\u001b[39m Alice           90.3\n",
      "\u001b[90m2\u001b[39m Bob             90  \n",
      "\u001b[90m3\u001b[39m Charlie         90  \n"
     ]
    }
   ],
   "source": [
    "# Encontramos y buscamos la calificacion total de los estudiantes sumando sus calificaciones de cada materia\n",
    "\n",
    "df_promedio_estudiante <- df %>%\n",
    "  group_by(Nombre) %>%\n",
    "  summarise(Calificacion = mean(Calificacion, na.rm = TRUE)) %>%\n",
    "  ungroup()\n",
    "\n",
    "cat(\"Promedio por estudiante:\\n\")\n",
    "print(df_promedio_estudiante)"
   ]
  }
 ],
 "metadata": {
  "kernelspec": {
   "display_name": "R",
   "language": "R",
   "name": "ir"
  },
  "language_info": {
   "codemirror_mode": "r",
   "file_extension": ".r",
   "mimetype": "text/x-r-source",
   "name": "R",
   "pygments_lexer": "r",
   "version": "4.1.2"
  }
 },
 "nbformat": 4,
 "nbformat_minor": 2
}

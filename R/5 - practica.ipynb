{
 "cells": [
  {
   "cell_type": "markdown",
   "metadata": {},
   "source": [
    "Tenemos un archivo CSV con información de ventas y queremos procesar este archivo para \n",
    "calcular el total de ventas para cada producto y luego queremos escribir esta información en \n",
    "un nuevo archivo CSV.\n",
    "\n",
    "Queremos generar un nuevo CSV 'total_ventas.csv' que muestre el total de ventas para \n",
    "cada producto."
   ]
  },
  {
   "cell_type": "code",
   "execution_count": 2,
   "metadata": {
    "vscode": {
     "languageId": "r"
    }
   },
   "outputs": [
    {
     "name": "stderr",
     "output_type": "stream",
     "text": [
      "Installing packages into ‘/home/tux/R/x86_64-pc-linux-gnu-library/4.1’\n",
      "(as ‘lib’ is unspecified)\n",
      "\n",
      "\n",
      "Attaching package: ‘dplyr’\n",
      "\n",
      "\n",
      "The following objects are masked from ‘package:stats’:\n",
      "\n",
      "    filter, lag\n",
      "\n",
      "\n",
      "The following objects are masked from ‘package:base’:\n",
      "\n",
      "    intersect, setdiff, setequal, union\n",
      "\n",
      "\n"
     ]
    }
   ],
   "source": [
    "# Importamos la biblioteca readr y dplyr\n",
    "install.packages(c(\"dplyr\", \"readr\"))\n",
    "library(dplyr)\n",
    "library(readr)"
   ]
  },
  {
   "cell_type": "code",
   "execution_count": 3,
   "metadata": {
    "vscode": {
     "languageId": "r"
    }
   },
   "outputs": [
    {
     "name": "stderr",
     "output_type": "stream",
     "text": [
      "\u001b[1mRows: \u001b[22m\u001b[34m48\u001b[39m \u001b[1mColumns: \u001b[22m\u001b[34m3\u001b[39m\n",
      "\u001b[36m──\u001b[39m \u001b[1mColumn specification\u001b[22m \u001b[36m────────────────────────────────────────────────────────\u001b[39m\n",
      "\u001b[1mDelimiter:\u001b[22m \",\"\n",
      "\u001b[31mchr\u001b[39m (1): Producto\n",
      "\u001b[32mdbl\u001b[39m (2): Cantidad, Venta\n",
      "\n",
      "\u001b[36mℹ\u001b[39m Use `spec()` to retrieve the full column specification for this data.\n",
      "\u001b[36mℹ\u001b[39m Specify the column types or set `show_col_types = FALSE` to quiet this message.\n"
     ]
    }
   ],
   "source": [
    "# Leemos el archivo CSV original y lo almacenamos en un DataFrame\n",
    "df <- read_csv('../data/ventas.csv')"
   ]
  },
  {
   "cell_type": "code",
   "execution_count": 4,
   "metadata": {
    "vscode": {
     "languageId": "r"
    }
   },
   "outputs": [
    {
     "name": "stdout",
     "output_type": "stream",
     "text": [
      "DataFrame original: \n"
     ]
    },
    {
     "name": "stdout",
     "output_type": "stream",
     "text": [
      "\u001b[90m# A tibble: 48 × 3\u001b[39m\n",
      "   Producto Cantidad Venta\n",
      "   \u001b[3m\u001b[90m<chr>\u001b[39m\u001b[23m       \u001b[3m\u001b[90m<dbl>\u001b[39m\u001b[23m \u001b[3m\u001b[90m<dbl>\u001b[39m\u001b[23m\n",
      "\u001b[90m 1\u001b[39m Manzana        15  0.85\n",
      "\u001b[90m 2\u001b[39m Naranja         7  0.42\n",
      "\u001b[90m 3\u001b[39m Platano        12  1.25\n",
      "\u001b[90m 4\u001b[39m Manzana         8  0.95\n",
      "\u001b[90m 5\u001b[39m Naranja         3  0.68\n",
      "\u001b[90m 6\u001b[39m Platano        10  1.1 \n",
      "\u001b[90m 7\u001b[39m Manzana        14  0.92\n",
      "\u001b[90m 8\u001b[39m Naranja         6  0.55\n",
      "\u001b[90m 9\u001b[39m Platano         9  1.18\n",
      "\u001b[90m10\u001b[39m Manzana        11  0.75\n",
      "\u001b[90m# ℹ 38 more rows\u001b[39m\n"
     ]
    }
   ],
   "source": [
    "# Mostramos el DataFrame original para revisión\n",
    "cat(\"DataFrame original: \\n\")\n",
    "print(df)"
   ]
  },
  {
   "cell_type": "code",
   "execution_count": 5,
   "metadata": {
    "vscode": {
     "languageId": "r"
    }
   },
   "outputs": [],
   "source": [
    "# Calculamos el total de ventas para cada producto.\n",
    "# Para esto, primero creamos una nueva columna 'Total' que es el producto de 'Cantidad' y 'Venta'\n",
    "df <- df %>%\n",
    "  mutate(Total = Cantidad * Venta)"
   ]
  },
  {
   "cell_type": "code",
   "execution_count": 6,
   "metadata": {
    "vscode": {
     "languageId": "r"
    }
   },
   "outputs": [],
   "source": [
    "# Luego, agrupamos por 'Producto' y sumamos 'Total'\n",
    "df_total <- df %>%\n",
    "  group_by(Producto) %>%\n",
    "  summarise(Total = sum(Total, na.rm = TRUE)) %>%\n",
    "  ungroup()"
   ]
  },
  {
   "cell_type": "code",
   "execution_count": 15,
   "metadata": {
    "vscode": {
     "languageId": "r"
    }
   },
   "outputs": [
    {
     "name": "stdout",
     "output_type": "stream",
     "text": [
      "\n",
      "DataFrame de totales de ventas:  Producto  Total\n",
      "1  Manzana 149.48\n",
      "2  Naranja  45.34\n",
      "3  Platano 202.80\n"
     ]
    }
   ],
   "source": [
    "# Mostramos el DataFrame de totales para revisión.\n",
    "# Los tibbles recortan la informacion de decimales para\n",
    "# que los resultados sean mas facil de leer\n",
    "# En nuestro caso lo convertiremos en un dataframe para que nos muestre\n",
    "# todos los decimales\n",
    "\n",
    "cat(\"\\nDataFrame de totales de ventas:\")\n",
    "print(as.data.frame(df_total))"
   ]
  },
  {
   "cell_type": "code",
   "execution_count": 18,
   "metadata": {
    "vscode": {
     "languageId": "r"
    }
   },
   "outputs": [],
   "source": [
    "write.csv(df_total, file = \"total_ventas.csv\", row.names = FALSE)"
   ]
  }
 ],
 "metadata": {
  "kernelspec": {
   "display_name": "R",
   "language": "R",
   "name": "ir"
  },
  "language_info": {
   "codemirror_mode": "r",
   "file_extension": ".r",
   "mimetype": "text/x-r-source",
   "name": "R",
   "pygments_lexer": "r",
   "version": "4.1.2"
  }
 },
 "nbformat": 4,
 "nbformat_minor": 2
}

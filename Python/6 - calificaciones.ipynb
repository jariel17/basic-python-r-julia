{
 "cells": [
  {
   "cell_type": "markdown",
   "metadata": {},
   "source": [
    "Se te ha proporcionado un archivo CSV denominado calificaciones.csv que contiene las \n",
    "calificaciones de varios estudiantes en distintas materias. El archivo tiene la siguiente \n",
    "estructura: \n",
    "Nombre, Materia, Calificacion"
   ]
  },
  {
   "cell_type": "code",
   "execution_count": 1,
   "metadata": {},
   "outputs": [],
   "source": [
    "# Importamos la biblioteca de pandas\n",
    "# Leemos los datos del archivo calificaciones.csv y creamos un dataframe\n",
    "\n",
    "import pandas as pd\n",
    "df = pd.read_csv('./../data/calificaciones.csv') "
   ]
  },
  {
   "cell_type": "code",
   "execution_count": 2,
   "metadata": {},
   "outputs": [
    {
     "name": "stdout",
     "output_type": "stream",
     "text": [
      "DataFrame original:\n",
      "    Nombre      Materia  Calificacion\n",
      "0    Alice  Matematicas            89\n",
      "1      Bob  Matematicas            92\n",
      "2  Charlie  Matematicas            85\n",
      "3    Alice       Fisica            95\n",
      "4      Bob       Fisica            88\n",
      "5  Charlie       Fisica            91\n",
      "6    Alice      Quimica            87\n",
      "7      Bob      Quimica            90\n",
      "8  Charlie      Quimica            94\n"
     ]
    }
   ],
   "source": [
    "# Mostramos el DataFrame original\n",
    "print(\"DataFrame original:\")\n",
    "print(df)"
   ]
  },
  {
   "cell_type": "code",
   "execution_count": 3,
   "metadata": {},
   "outputs": [
    {
     "name": "stdout",
     "output_type": "stream",
     "text": [
      "Promedio por estudiante:\n",
      "    Nombre  Calificacion\n",
      "0    Alice     90.333333\n",
      "1      Bob     90.000000\n",
      "2  Charlie     90.000000\n"
     ]
    }
   ],
   "source": [
    "# Calculamos y mostramos el promedio de calificaciones por estudiante\n",
    "# Agrupamos por 'Estudiante' y sacamos el promedio de 'Calificacion'\n",
    "df_promedio_estudiante = df.groupby('Nombre')['Calificacion'].mean().reset_index()\n",
    "print(\"Promedio por estudiante:\")\n",
    "print(df_promedio_estudiante)"
   ]
  },
  {
   "cell_type": "code",
   "execution_count": 4,
   "metadata": {},
   "outputs": [
    {
     "name": "stdout",
     "output_type": "stream",
     "text": [
      "Promedio de calificaciones por materia:\n",
      "       Materia  Calificacion\n",
      "0       Fisica     91.333333\n",
      "1  Matematicas     88.666667\n",
      "2      Quimica     90.333333\n"
     ]
    }
   ],
   "source": [
    "# Calculamos y mostramos el promedio de calificaciones por materia\n",
    "# Agrupamos por 'Materia' y sacamos el promedio de 'Calificacion'\n",
    "df_promedio_materia = df.groupby('Materia')['Calificacion'].mean().reset_index()\n",
    "print(\"Promedio de calificaciones por materia:\")\n",
    "print(df_promedio_materia)"
   ]
  },
  {
   "cell_type": "code",
   "execution_count": 5,
   "metadata": {},
   "outputs": [
    {
     "name": "stdout",
     "output_type": "stream",
     "text": [
      "Estudiantes con al menos una calificacion de 90 o mas:\n",
      "['Bob' 'Alice' 'Charlie']\n"
     ]
    }
   ],
   "source": [
    "# Filtramos el dataframe por los estudiantes que tuvieron una calificacion igual o superior a 90\n",
    "# Imprimimos la lista anterior, agrupada por Nombre de estudiantes\n",
    "\n",
    "df_estudiantes_90 = df[df['Calificacion'] >= 90]\n",
    "print(\"Estudiantes con al menos una calificacion de 90 o mas:\")\n",
    "print(df_estudiantes_90['Nombre'].unique())"
   ]
  },
  {
   "cell_type": "code",
   "execution_count": 6,
   "metadata": {},
   "outputs": [
    {
     "name": "stdout",
     "output_type": "stream",
     "text": [
      "Estudiantes con la calificacion mas alta por materia:\n",
      "    Nombre      Materia  Calificacion\n",
      "3    Alice       Fisica            95\n",
      "1      Bob  Matematicas            92\n",
      "8  Charlie      Quimica            94\n"
     ]
    }
   ],
   "source": [
    "# Encontramos y buscamos al estudiante con la calificacion mas alta de cada materia\n",
    "# Agrupamos el dataframe por materia, luego buscamos el indice del valor mas alto de las calificaciones con idmax()\n",
    "# Con los indices obtenidos, buscamos estos indices en el dataframe con loc()\n",
    "\n",
    "indices = df.groupby('Materia')['Calificacion'].idxmax()\n",
    "estudiantes_sobresalientes = df.loc[indices]\n",
    "print(\"Estudiantes con la calificacion mas alta por materia:\")\n",
    "print(estudiantes_sobresalientes)"
   ]
  },
  {
   "cell_type": "code",
   "execution_count": 7,
   "metadata": {},
   "outputs": [
    {
     "name": "stdout",
     "output_type": "stream",
     "text": [
      "Promedio por estudiante:\n",
      "    Nombre  Calificacion\n",
      "0    Alice     90.333333\n",
      "1      Bob     90.000000\n",
      "2  Charlie     90.000000\n"
     ]
    }
   ],
   "source": [
    "# Encontramos y buscamos la calificacion total de los estudiantes sumando sus calificaciones de cada materia\n",
    "\n",
    "df_promedio_estudiante = df.groupby('Nombre')['Calificacion'].mean().reset_index()\n",
    "print(\"Promedio por estudiante:\")\n",
    "print(df_promedio_estudiante)"
   ]
  }
 ],
 "metadata": {
  "kernelspec": {
   "display_name": "env",
   "language": "python",
   "name": "python3"
  },
  "language_info": {
   "codemirror_mode": {
    "name": "ipython",
    "version": 3
   },
   "file_extension": ".py",
   "mimetype": "text/x-python",
   "name": "python",
   "nbconvert_exporter": "python",
   "pygments_lexer": "ipython3",
   "version": "3.10.6"
  }
 },
 "nbformat": 4,
 "nbformat_minor": 2
}

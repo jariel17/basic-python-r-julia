{
 "cells": [
  {
   "cell_type": "markdown",
   "metadata": {},
   "source": [
    "# Practica #7\n",
    "\n",
    "Tenemos un archivo CSV con información de ventas y queremos procesar este archivo para \n",
    "calcular el total de ventas para cada producto y luego queremos escribir esta información en \n",
    "un nuevo archivo CSV.\n",
    "\n",
    "Queremos generar un nuevo CSV 'total_ventas.csv' que muestre el total de ventas para \n",
    "cada producto."
   ]
  },
  {
   "cell_type": "code",
   "execution_count": 1,
   "metadata": {},
   "outputs": [],
   "source": [
    "import pandas as pd"
   ]
  },
  {
   "cell_type": "code",
   "execution_count": 2,
   "metadata": {},
   "outputs": [],
   "source": [
    "df = pd.read_csv('./../data/ventas.csv')"
   ]
  },
  {
   "cell_type": "code",
   "execution_count": 3,
   "metadata": {},
   "outputs": [
    {
     "name": "stdout",
     "output_type": "stream",
     "text": [
      "DataFrame original:\n",
      "   Producto  Cantidad  Venta\n",
      "0   Manzana        15   0.85\n",
      "1   Naranja         7   0.42\n",
      "2   Platano        12   1.25\n",
      "3   Manzana         8   0.95\n",
      "4   Naranja         3   0.68\n",
      "5   Platano        10   1.10\n",
      "6   Manzana        14   0.92\n",
      "7   Naranja         6   0.55\n",
      "8   Platano         9   1.18\n",
      "9   Manzana        11   0.75\n",
      "10  Naranja         5   0.63\n",
      "11  Platano        13   0.98\n",
      "12  Manzana         9   0.88\n",
      "13  Naranja         4   0.50\n",
      "14  Platano        11   1.20\n",
      "15  Manzana        12   0.80\n",
      "16  Naranja         6   0.78\n",
      "17  Platano        14   1.15\n",
      "18  Manzana        10   0.93\n",
      "19  Naranja         3   0.42\n",
      "20  Platano         8   1.05\n",
      "21  Manzana         7   0.85\n",
      "22  Naranja         4   0.58\n",
      "23  Platano        15   1.12\n",
      "24  Manzana        16   0.78\n",
      "25  Naranja         7   0.65\n",
      "26  Platano        10   1.22\n",
      "27  Manzana         9   0.90\n",
      "28  Naranja         5   0.47\n",
      "29  Platano        12   1.18\n",
      "30  Manzana        13   0.85\n",
      "31  Naranja         4   0.53\n",
      "32  Platano         9   1.10\n",
      "33  Manzana         8   0.95\n",
      "34  Naranja         6   0.62\n",
      "35  Platano        13   1.05\n",
      "36  Manzana        15   0.88\n",
      "37  Naranja         5   0.55\n",
      "38  Platano        11   1.15\n",
      "39  Manzana        10   0.78\n",
      "40  Naranja         3   0.40\n",
      "41  Platano         8   1.02\n",
      "42  Manzana        12   0.85\n",
      "43  Naranja         7   0.72\n",
      "44  Platano         9   1.18\n",
      "45  Manzana         6   0.80\n",
      "46  Naranja         4   0.48\n",
      "47  Platano        16   1.10\n"
     ]
    }
   ],
   "source": [
    "print(\"DataFrame original:\")\n",
    "print(df)"
   ]
  },
  {
   "cell_type": "code",
   "execution_count": 4,
   "metadata": {},
   "outputs": [],
   "source": [
    "df['Total'] = df['Cantidad'] * df['Venta']"
   ]
  },
  {
   "cell_type": "code",
   "execution_count": 5,
   "metadata": {},
   "outputs": [],
   "source": [
    "df_total = df.groupby('Producto')['Total'].sum().reset_index()"
   ]
  },
  {
   "cell_type": "code",
   "execution_count": 9,
   "metadata": {},
   "outputs": [
    {
     "name": "stdout",
     "output_type": "stream",
     "text": [
      "\n",
      "DataFrame de totales de ventas:\n",
      "  Producto   Total\n",
      "0  Manzana  149.48\n",
      "1  Naranja   45.34\n",
      "2  Platano  202.80\n"
     ]
    }
   ],
   "source": [
    "print(\"\\nDataFrame de totales de ventas:\")\n",
    "print(df_total)"
   ]
  },
  {
   "cell_type": "code",
   "execution_count": 10,
   "metadata": {},
   "outputs": [],
   "source": [
    "df_total.to_csv('total_ventas.csv', index=False)"
   ]
  }
 ],
 "metadata": {
  "kernelspec": {
   "display_name": "env",
   "language": "python",
   "name": "python3"
  },
  "language_info": {
   "codemirror_mode": {
    "name": "ipython",
    "version": 3
   },
   "file_extension": ".py",
   "mimetype": "text/x-python",
   "name": "python",
   "nbconvert_exporter": "python",
   "pygments_lexer": "ipython3",
   "version": "3.10.6"
  }
 },
 "nbformat": 4,
 "nbformat_minor": 2
}

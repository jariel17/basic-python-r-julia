{
 "cells": [
  {
   "cell_type": "markdown",
   "metadata": {},
   "source": [
    "Se te ha proporcionado un archivo CSV denominado calificaciones.csv que contiene las \n",
    "calificaciones de varios estudiantes en distintas materias. El archivo tiene la siguiente \n",
    "estructura: \n",
    "Nombre, Materia, Calificacion"
   ]
  }
 ],
 "metadata": {
  "language_info": {
   "name": "python"
  }
 },
 "nbformat": 4,
 "nbformat_minor": 2
}

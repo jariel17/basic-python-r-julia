{
 "cells": [
  {
   "cell_type": "code",
   "execution_count": 2,
   "metadata": {},
   "outputs": [
    {
     "name": "stdout",
     "output_type": "stream",
     "text": [
      "Su edad es: 35\n"
     ]
    }
   ],
   "source": [
    "edad = input(\"Escriba su edad: \")\n",
    "print(f\"Su edad es: {edad}\")"
   ]
  },
  {
   "cell_type": "markdown",
   "metadata": {},
   "source": [
    "## Practica 1\n",
    "Calcula el indice de masa corporal\n",
    "\n",
    "IMC = \\\\frac{peso(kg)}{altura(m)^2}\n"
   ]
  },
  {
   "cell_type": "code",
   "execution_count": 4,
   "metadata": {},
   "outputs": [
    {
     "name": "stdout",
     "output_type": "stream",
     "text": [
      "Su indice de masa corporal es:  28.41\n",
      "Tu indice de masa corporal indica que tu peso es:  SOBREPESO\n"
     ]
    }
   ],
   "source": [
    "peso = float(input(\"Introduzca su peso en kilogramos\"))\n",
    "altura = float(input(\"Introduzca su altura en metros\"))\n",
    "\n",
    "imc = peso / altura**2\n",
    "\n",
    "print(\"Su indice de masa corporal es:\", f\"{imc:.2f}\")\n",
    "indicador = \"\"\n",
    "\n",
    "if imc < 18.5:\n",
    "    indicador = \"BAJO PESO\"\n",
    "elif imc <= 24.9:\n",
    "    indicador = \"PESO NORMAL\"\n",
    "elif imc <= 29.9:\n",
    "    indicador = \"SOBREPESO\"\n",
    "elif imc <= 34.9:\n",
    "    indicador = \"OBESIDAD TIPO 1\"\n",
    "elif imc <= 39.9:\n",
    "    indicador = \"OBESIDAD TIPO 2\"\n",
    "elif imc >= 40:\n",
    "    indicador = \"OBESIDAD TIPO 3\"\n",
    "\n",
    "print(\"Su indice de masa corporal indica: \", indicador)"
   ]
  }
 ],
 "metadata": {
  "kernelspec": {
   "display_name": "env",
   "language": "python",
   "name": "python3"
  },
  "language_info": {
   "codemirror_mode": {
    "name": "ipython",
    "version": 3
   },
   "file_extension": ".py",
   "mimetype": "text/x-python",
   "name": "python",
   "nbconvert_exporter": "python",
   "pygments_lexer": "ipython3",
   "version": "3.10.6"
  }
 },
 "nbformat": 4,
 "nbformat_minor": 2
}

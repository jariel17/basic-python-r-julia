{
 "cells": [
  {
   "cell_type": "code",
   "execution_count": null,
   "metadata": {},
   "outputs": [],
   "source": [
    "edad = input(\"Escriba su edad: \")\n",
    "print(f\"Su edad es: {edad}\")"
   ]
  },
  {
   "cell_type": "markdown",
   "metadata": {},
   "source": [
    "## Practica 1\n",
    "Calcula el indice de masa corporal\n",
    "\n",
    "IMC = \\\\frac{peso(kg)}{altura(m)^2}\n"
   ]
  },
  {
   "cell_type": "code",
   "execution_count": null,
   "metadata": {},
   "outputs": [],
   "source": [
    "peso = float(input(\"Introduzca su peso en kilogramos\"))\n",
    "altura = float(input(\"Introduzca su altura en metros\"))\n",
    "\n",
    "imc = peso / altura**2\n",
    "\n",
    "print(\"Su indice de masa corporal es:\", f\"{imc:.2f}\")\n",
    "indicador = \"\"\n",
    "\n",
    "if imc < 18.5:\n",
    "    indicador = \"BAJO PESO\"\n",
    "elif imc <= 24.9:\n",
    "    indicador = \"PESO NORMAL\"\n",
    "elif imc <= 29.9:\n",
    "    indicador = \"SOBREPESO\"\n",
    "elif imc <= 34.9:\n",
    "    indicador = \"OBESIDAD TIPO 1\"\n",
    "elif imc <= 39.9:\n",
    "    indicador = \"OBESIDAD TIPO 2\"\n",
    "elif imc >= 40:\n",
    "    indicador = \"OBESIDAD TIPO 3\"\n",
    "\n",
    "print(\"Su indice de masa corporal indica: \", indicador)"
   ]
  },
  {
   "cell_type": "markdown",
   "metadata": {},
   "source": [
    "## Practica 2\n",
    "Un programa que permita ingresar N cantidad de personas.\n",
    "Datos a solicitar: nombre, apellido, cédula, correo electrónico y número de teléfono"
   ]
  },
  {
   "cell_type": "code",
   "execution_count": 1,
   "metadata": {},
   "outputs": [
    {
     "name": "stdout",
     "output_type": "stream",
     "text": [
      "A continuacion podrá agregar datos personales\n",
      "A continuacion podrá agregar datos personales\n",
      "{'nombre': 'Isa', 'apellido': 'Vic', 'cedula': '8787', 'correo electrónico': '656@56', 'teléfono': '995325'}\n"
     ]
    }
   ],
   "source": [
    "salir = \"\"\n",
    "registros = {}\n",
    "while True:\n",
    "    print(\"A continuacion podrá agregar datos personales\")\n",
    "    nombre = input(\"Introduzca el nombre\")\n",
    "    apellido = input(\"Introduzca el apellido\")\n",
    "    cedula = input(\"Introduzca la cedula\")\n",
    "    correo = input(\"Introduzca el correo electronico\")\n",
    "    telefono = input(\"Introduzca el telefono\")\n",
    "\n",
    "    registros.append(\n",
    "        {\"nombre\": nombre, \n",
    "         \"apellido\": apellido, \n",
    "         \"cedula\":cedula, \n",
    "         \"correo electrónico\":correo, \n",
    "         \"teléfono\":telefono})\n",
    "    \n",
    "    salir = input(\"Si desea salir presione y\")\n",
    "\n",
    "    if salir == 'y' or salir == 'Y':\n",
    "        break\n",
    "\n",
    "for datos in registros:\n",
    "    print(datos)\n",
    "\n",
    "#print(registros)"
   ]
  }
 ],
 "metadata": {
  "kernelspec": {
   "display_name": "env",
   "language": "python",
   "name": "python3"
  },
  "language_info": {
   "codemirror_mode": {
    "name": "ipython",
    "version": 3
   },
   "file_extension": ".py",
   "mimetype": "text/x-python",
   "name": "python",
   "nbconvert_exporter": "python",
   "pygments_lexer": "ipython3",
   "version": "3.10.6"
  }
 },
 "nbformat": 4,
 "nbformat_minor": 2
}

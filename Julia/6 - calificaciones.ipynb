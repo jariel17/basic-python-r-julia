{
 "cells": [
  {
   "cell_type": "markdown",
   "metadata": {},
   "source": [
    "Se te ha proporcionado un archivo CSV denominado calificaciones.csv que contiene las \n",
    "calificaciones de varios estudiantes en distintas materias. El archivo tiene la siguiente \n",
    "estructura: \n",
    "Nombre, Materia, Calificacion"
   ]
  },
  {
   "cell_type": "code",
   "execution_count": 1,
   "metadata": {},
   "outputs": [
    {
     "name": "stderr",
     "output_type": "stream",
     "text": [
      "\u001b[32m\u001b[1m    Updating\u001b[22m\u001b[39m registry at `~/.julia/registries/General.toml`\n",
      "\u001b[32m\u001b[1m   Resolving\u001b[22m\u001b[39m package versions...\n",
      "\u001b[32m\u001b[1m  No Changes\u001b[22m\u001b[39m to `~/.julia/environments/v1.10/Project.toml`\n",
      "\u001b[32m\u001b[1m  No Changes\u001b[22m\u001b[39m to `~/.julia/environments/v1.10/Manifest.toml`\n",
      "\u001b[32m\u001b[1m   Resolving\u001b[22m\u001b[39m package versions...\n",
      "\u001b[32m\u001b[1m  No Changes\u001b[22m\u001b[39m to `~/.julia/environments/v1.10/Project.toml`\n",
      "\u001b[32m\u001b[1m  No Changes\u001b[22m\u001b[39m to `~/.julia/environments/v1.10/Manifest.toml`\n"
     ]
    }
   ],
   "source": [
    "# Importamos la biblioteca DataFrames y CSV\n",
    "import Pkg\n",
    "Pkg.add(\"DataFrames\")\n",
    "Pkg.add(\"CSV\")"
   ]
  },
  {
   "cell_type": "code",
   "execution_count": 3,
   "metadata": {},
   "outputs": [
    {
     "data": {
      "text/html": [
       "<div><div style = \"float: left;\"><span>9×3 DataFrame</span></div><div style = \"clear: both;\"></div></div><div class = \"data-frame\" style = \"overflow-x: scroll;\"><table class = \"data-frame\" style = \"margin-bottom: 6px;\"><thead><tr class = \"header\"><th class = \"rowNumber\" style = \"font-weight: bold; text-align: right;\">Row</th><th style = \"text-align: left;\">Nombre</th><th style = \"text-align: left;\">Materia</th><th style = \"text-align: left;\">Calificacion</th></tr><tr class = \"subheader headerLastRow\"><th class = \"rowNumber\" style = \"font-weight: bold; text-align: right;\"></th><th title = \"String7\" style = \"text-align: left;\">String7</th><th title = \"String15\" style = \"text-align: left;\">String15</th><th title = \"Int64\" style = \"text-align: left;\">Int64</th></tr></thead><tbody><tr><td class = \"rowNumber\" style = \"font-weight: bold; text-align: right;\">1</td><td style = \"text-align: left;\">Alice</td><td style = \"text-align: left;\">Matematicas</td><td style = \"text-align: right;\">89</td></tr><tr><td class = \"rowNumber\" style = \"font-weight: bold; text-align: right;\">2</td><td style = \"text-align: left;\">Bob</td><td style = \"text-align: left;\">Matematicas</td><td style = \"text-align: right;\">92</td></tr><tr><td class = \"rowNumber\" style = \"font-weight: bold; text-align: right;\">3</td><td style = \"text-align: left;\">Charlie</td><td style = \"text-align: left;\">Matematicas</td><td style = \"text-align: right;\">85</td></tr><tr><td class = \"rowNumber\" style = \"font-weight: bold; text-align: right;\">4</td><td style = \"text-align: left;\">Alice</td><td style = \"text-align: left;\">Fisica</td><td style = \"text-align: right;\">95</td></tr><tr><td class = \"rowNumber\" style = \"font-weight: bold; text-align: right;\">5</td><td style = \"text-align: left;\">Bob</td><td style = \"text-align: left;\">Fisica</td><td style = \"text-align: right;\">88</td></tr><tr><td class = \"rowNumber\" style = \"font-weight: bold; text-align: right;\">6</td><td style = \"text-align: left;\">Charlie</td><td style = \"text-align: left;\">Fisica</td><td style = \"text-align: right;\">91</td></tr><tr><td class = \"rowNumber\" style = \"font-weight: bold; text-align: right;\">7</td><td style = \"text-align: left;\">Alice</td><td style = \"text-align: left;\">Quimica</td><td style = \"text-align: right;\">87</td></tr><tr><td class = \"rowNumber\" style = \"font-weight: bold; text-align: right;\">8</td><td style = \"text-align: left;\">Bob</td><td style = \"text-align: left;\">Quimica</td><td style = \"text-align: right;\">90</td></tr><tr><td class = \"rowNumber\" style = \"font-weight: bold; text-align: right;\">9</td><td style = \"text-align: left;\">Charlie</td><td style = \"text-align: left;\">Quimica</td><td style = \"text-align: right;\">94</td></tr></tbody></table></div>"
      ],
      "text/latex": [
       "\\begin{tabular}{r|ccc}\n",
       "\t& Nombre & Materia & Calificacion\\\\\n",
       "\t\\hline\n",
       "\t& String7 & String15 & Int64\\\\\n",
       "\t\\hline\n",
       "\t1 & Alice & Matematicas & 89 \\\\\n",
       "\t2 & Bob & Matematicas & 92 \\\\\n",
       "\t3 & Charlie & Matematicas & 85 \\\\\n",
       "\t4 & Alice & Fisica & 95 \\\\\n",
       "\t5 & Bob & Fisica & 88 \\\\\n",
       "\t6 & Charlie & Fisica & 91 \\\\\n",
       "\t7 & Alice & Quimica & 87 \\\\\n",
       "\t8 & Bob & Quimica & 90 \\\\\n",
       "\t9 & Charlie & Quimica & 94 \\\\\n",
       "\\end{tabular}\n"
      ],
      "text/plain": [
       "\u001b[1m9×3 DataFrame\u001b[0m\n",
       "\u001b[1m Row \u001b[0m│\u001b[1m Nombre  \u001b[0m\u001b[1m Materia     \u001b[0m\u001b[1m Calificacion \u001b[0m\n",
       "     │\u001b[90m String7 \u001b[0m\u001b[90m String15    \u001b[0m\u001b[90m Int64        \u001b[0m\n",
       "─────┼────────────────────────────────────\n",
       "   1 │ Alice    Matematicas            89\n",
       "   2 │ Bob      Matematicas            92\n",
       "   3 │ Charlie  Matematicas            85\n",
       "   4 │ Alice    Fisica                 95\n",
       "   5 │ Bob      Fisica                 88\n",
       "   6 │ Charlie  Fisica                 91\n",
       "   7 │ Alice    Quimica                87\n",
       "   8 │ Bob      Quimica                90\n",
       "   9 │ Charlie  Quimica                94"
      ]
     },
     "execution_count": 3,
     "metadata": {},
     "output_type": "execute_result"
    }
   ],
   "source": [
    "# Leemos el archivo CSV original y lo almacenamos en un DataFrame\n",
    "using DataFrames\n",
    "using CSV\n",
    "using Statistics\n",
    "\n",
    "df = CSV.read(\"./../data/calificaciones.csv\", DataFrame)"
   ]
  },
  {
   "cell_type": "code",
   "execution_count": 4,
   "metadata": {},
   "outputs": [
    {
     "name": "stdout",
     "output_type": "stream",
     "text": [
      "Promedio por estudiante:\n",
      "\u001b[1m3×2 DataFrame\u001b[0m\n",
      "\u001b[1m Row \u001b[0m│\u001b[1m Nombre  \u001b[0m\u001b[1m Calificacion \u001b[0m\n",
      "     │\u001b[90m String7 \u001b[0m\u001b[90m Float64      \u001b[0m\n",
      "─────┼───────────────────────\n",
      "   1 │ Alice         90.3333\n",
      "   2 │ Bob           90.0\n",
      "   3 │ Charlie       90.0\n"
     ]
    }
   ],
   "source": [
    "# Calculamos y mostramos el promedio de calificaciones por estudiante\n",
    "# Agrupamos por 'Estudiante' y sacamos el promedio de 'Calificacion'\n",
    "df_promedio_estudiante = combine(\n",
    "    groupby(df, :Nombre), \n",
    "    :Calificacion => mean => :Calificacion)\n",
    "    \n",
    "println(\"Promedio por estudiante:\")\n",
    "println(df_promedio_estudiante)"
   ]
  },
  {
   "cell_type": "code",
   "execution_count": 5,
   "metadata": {},
   "outputs": [
    {
     "name": "stdout",
     "output_type": "stream",
     "text": [
      "Promedio de calificaciones por materia:\u001b[1m3×2 DataFrame\u001b[0m\n",
      "\u001b[1m Row \u001b[0m│\u001b[1m Materia     \u001b[0m\u001b[1m Calificacion \u001b[0m\n",
      "     │\u001b[90m String15    \u001b[0m\u001b[90m Float64      \u001b[0m\n",
      "─────┼───────────────────────────\n",
      "   1 │ Matematicas       88.6667\n",
      "   2 │ Fisica            91.3333\n",
      "   3 │ Quimica           90.3333"
     ]
    }
   ],
   "source": [
    "# Calculamos y mostramos el promedio de calificaciones por materia\n",
    "# Agrupamos por 'Materia' y sacamos el promedio de 'Calificacion'\n",
    "df_promedio_materia = combine(groupby(df, :Materia), :Calificacion => mean => :Calificacion)\n",
    "print(\"Promedio de calificaciones por materia:\")\n",
    "print(df_promedio_materia)"
   ]
  },
  {
   "cell_type": "code",
   "execution_count": 6,
   "metadata": {},
   "outputs": [
    {
     "name": "stdout",
     "output_type": "stream",
     "text": [
      "Estudiantes con al menos una calificacion de 90 o mas:\n",
      "String7[\"Bob\", \"Alice\", \"Charlie\"]\n"
     ]
    }
   ],
   "source": [
    "# Filtramos el dataframe por los estudiantes que tuvieron una calificacion igual o superior a 90\n",
    "# Imprimimos la lista anterior, agrupada por Nombre de estudiantes\n",
    "\n",
    "df_estudiantes_90 = filter(row -> row.Calificacion >= 90, df)\n",
    "estudiantes_90 = unique(df_estudiantes_90.Nombre)\n",
    "\n",
    "println(\"Estudiantes con al menos una calificacion de 90 o mas:\")\n",
    "println(estudiantes_90)"
   ]
  },
  {
   "cell_type": "code",
   "execution_count": 7,
   "metadata": {},
   "outputs": [
    {
     "name": "stdout",
     "output_type": "stream",
     "text": [
      "Estudiantes con la calificacion mas alta por materia:\n",
      "\u001b[1m3×3 DataFrame\u001b[0m\n",
      "\u001b[1m Row \u001b[0m│\u001b[1m Materia     \u001b[0m\u001b[1m Nombre  \u001b[0m\u001b[1m Calificacion \u001b[0m\n",
      "     │\u001b[90m String15    \u001b[0m\u001b[90m String7 \u001b[0m\u001b[90m Int64        \u001b[0m\n",
      "─────┼────────────────────────────────────\n",
      "   1 │ Matematicas  Bob                92\n",
      "   2 │ Fisica       Alice              95\n",
      "   3 │ Quimica      Charlie            94\n"
     ]
    }
   ],
   "source": [
    "# Encontramos y buscamos al estudiante con la calificacion mas alta de cada materia\n",
    "# Agrupamos el dataframe por materia, luego buscamos el indice del valor mas alto de las calificaciones con idmax()\n",
    "# Con los indices obtenidos, buscamos estos indices en el dataframe con loc()\n",
    "\n",
    "estudiantes_sobresalientes = combine(groupby(df, :Materia)) do sdf\n",
    "    sdf[argmax(sdf.Calificacion), :]\n",
    "end\n",
    "\n",
    "println(\"Estudiantes con la calificacion mas alta por materia:\")\n",
    "println(estudiantes_sobresalientes)"
   ]
  },
  {
   "cell_type": "code",
   "execution_count": 8,
   "metadata": {},
   "outputs": [
    {
     "name": "stdout",
     "output_type": "stream",
     "text": [
      "Promedio por estudiante:\u001b[1m3×2 DataFrame\u001b[0m\n",
      "\u001b[1m Row \u001b[0m│\u001b[1m Nombre  \u001b[0m\u001b[1m Promedio \u001b[0m\n",
      "     │\u001b[90m String7 \u001b[0m\u001b[90m Float64  \u001b[0m\n",
      "─────┼───────────────────\n",
      "   1 │ Alice     90.3333\n",
      "   2 │ Bob       90.0\n",
      "   3 │ Charlie   90.0"
     ]
    }
   ],
   "source": [
    "# Encontramos y buscamos la calificacion total de los estudiantes sumando sus calificaciones de cada materia\n",
    "\n",
    "df_promedio_estudiante = combine(groupby(df, :Nombre), :Calificacion => mean => :Promedio)\n",
    "print(\"Promedio por estudiante:\")\n",
    "print(df_promedio_estudiante)"
   ]
  }
 ],
 "metadata": {
  "kernelspec": {
   "display_name": "Julia 1.10.3",
   "language": "julia",
   "name": "julia-1.10"
  },
  "language_info": {
   "file_extension": ".jl",
   "mimetype": "application/julia",
   "name": "julia",
   "version": "1.10.3"
  }
 },
 "nbformat": 4,
 "nbformat_minor": 2
}

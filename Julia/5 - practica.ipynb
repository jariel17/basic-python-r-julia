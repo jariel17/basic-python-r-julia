{
 "cells": [
  {
   "cell_type": "markdown",
   "metadata": {},
   "source": [
    "Tenemos un archivo CSV con información de ventas y queremos procesar este archivo para \n",
    "calcular el total de ventas para cada producto y luego queremos escribir esta información en \n",
    "un nuevo archivo CSV.\n",
    "\n",
    "Queremos generar un nuevo CSV 'total_ventas.csv' que muestre el total de ventas para \n",
    "cada producto.\n",
    "\n",
    "En Python usamos Pandas, acá usaremos una biblioteca llamada DataFrames."
   ]
  },
  {
   "cell_type": "code",
   "execution_count": 3,
   "metadata": {},
   "outputs": [
    {
     "name": "stderr",
     "output_type": "stream",
     "text": [
      "\u001b[32m\u001b[1m   Resolving\u001b[22m\u001b[39m package versions...\n",
      "\u001b[32m\u001b[1m  No Changes\u001b[22m\u001b[39m to `~/.julia/environments/v1.10/Project.toml`\n",
      "\u001b[32m\u001b[1m  No Changes\u001b[22m\u001b[39m to `~/.julia/environments/v1.10/Manifest.toml`\n",
      "\u001b[32m\u001b[1m   Resolving\u001b[22m\u001b[39m package versions...\n",
      "\u001b[32m\u001b[1m   Installed\u001b[22m\u001b[39m CodecZlib ────────── v0.7.4\n",
      "\u001b[32m\u001b[1m   Installed\u001b[22m\u001b[39m TranscodingStreams ─ v0.10.9\n",
      "\u001b[32m\u001b[1m   Installed\u001b[22m\u001b[39m WeakRefStrings ───── v1.4.2\n",
      "\u001b[32m\u001b[1m   Installed\u001b[22m\u001b[39m FilePathsBase ────── v0.9.21\n",
      "\u001b[32m\u001b[1m   Installed\u001b[22m\u001b[39m WorkerUtilities ──── v1.6.1\n",
      "\u001b[32m\u001b[1m   Installed\u001b[22m\u001b[39m CSV ──────────────── v0.10.14\n",
      "\u001b[32m\u001b[1m    Updating\u001b[22m\u001b[39m `~/.julia/environments/v1.10/Project.toml`\n",
      "  \u001b[90m[336ed68f] \u001b[39m\u001b[92m+ CSV v0.10.14\u001b[39m\n",
      "\u001b[32m\u001b[1m    Updating\u001b[22m\u001b[39m `~/.julia/environments/v1.10/Manifest.toml`\n",
      "  \u001b[90m[336ed68f] \u001b[39m\u001b[92m+ CSV v0.10.14\u001b[39m\n",
      "  \u001b[90m[944b1d66] \u001b[39m\u001b[92m+ CodecZlib v0.7.4\u001b[39m\n",
      "  \u001b[90m[48062228] \u001b[39m\u001b[92m+ FilePathsBase v0.9.21\u001b[39m\n",
      "  \u001b[90m[3bb67fe8] \u001b[39m\u001b[92m+ TranscodingStreams v0.10.9\u001b[39m\n",
      "  \u001b[90m[ea10d353] \u001b[39m\u001b[92m+ WeakRefStrings v1.4.2\u001b[39m\n",
      "  \u001b[90m[76eceee3] \u001b[39m\u001b[92m+ WorkerUtilities v1.6.1\u001b[39m\n",
      "\u001b[32m\u001b[1mPrecompiling\u001b[22m\u001b[39m project...\n",
      "\u001b[32m  ✓ \u001b[39m\u001b[90mWorkerUtilities\u001b[39m\n",
      "\u001b[32m  ✓ \u001b[39m\u001b[90mTranscodingStreams\u001b[39m\n",
      "\u001b[32m  ✓ \u001b[39m\u001b[90mWeakRefStrings\u001b[39m\n",
      "\u001b[32m  ✓ \u001b[39m\u001b[90mTranscodingStreams → TestExt\u001b[39m\n",
      "\u001b[32m  ✓ \u001b[39m\u001b[90mFilePathsBase\u001b[39m\n",
      "\u001b[32m  ✓ \u001b[39m\u001b[90mCodecZlib\u001b[39m\n",
      "\u001b[32m  ✓ \u001b[39mCSV\n",
      "  7 dependencies successfully precompiled in 15 seconds. 40 already precompiled.\n"
     ]
    }
   ],
   "source": [
    "# Importamos la biblioteca DataFrames y CSV\n",
    "import Pkg\n",
    "Pkg.add(\"DataFrames\")\n",
    "Pkg.add(\"CSV\")"
   ]
  },
  {
   "cell_type": "code",
   "execution_count": 5,
   "metadata": {},
   "outputs": [
    {
     "data": {
      "text/html": [
       "<div><div style = \"float: left;\"><span>48×3 DataFrame</span></div><div style = \"float: right;\"><span style = \"font-style: italic;\">23 rows omitted</span></div><div style = \"clear: both;\"></div></div><div class = \"data-frame\" style = \"overflow-x: scroll;\"><table class = \"data-frame\" style = \"margin-bottom: 6px;\"><thead><tr class = \"header\"><th class = \"rowNumber\" style = \"font-weight: bold; text-align: right;\">Row</th><th style = \"text-align: left;\">Producto</th><th style = \"text-align: left;\">Cantidad</th><th style = \"text-align: left;\">Venta</th></tr><tr class = \"subheader headerLastRow\"><th class = \"rowNumber\" style = \"font-weight: bold; text-align: right;\"></th><th title = \"String7\" style = \"text-align: left;\">String7</th><th title = \"Int64\" style = \"text-align: left;\">Int64</th><th title = \"Float64\" style = \"text-align: left;\">Float64</th></tr></thead><tbody><tr><td class = \"rowNumber\" style = \"font-weight: bold; text-align: right;\">1</td><td style = \"text-align: left;\">Manzana</td><td style = \"text-align: right;\">15</td><td style = \"text-align: right;\">0.85</td></tr><tr><td class = \"rowNumber\" style = \"font-weight: bold; text-align: right;\">2</td><td style = \"text-align: left;\">Naranja</td><td style = \"text-align: right;\">7</td><td style = \"text-align: right;\">0.42</td></tr><tr><td class = \"rowNumber\" style = \"font-weight: bold; text-align: right;\">3</td><td style = \"text-align: left;\">Platano</td><td style = \"text-align: right;\">12</td><td style = \"text-align: right;\">1.25</td></tr><tr><td class = \"rowNumber\" style = \"font-weight: bold; text-align: right;\">4</td><td style = \"text-align: left;\">Manzana</td><td style = \"text-align: right;\">8</td><td style = \"text-align: right;\">0.95</td></tr><tr><td class = \"rowNumber\" style = \"font-weight: bold; text-align: right;\">5</td><td style = \"text-align: left;\">Naranja</td><td style = \"text-align: right;\">3</td><td style = \"text-align: right;\">0.68</td></tr><tr><td class = \"rowNumber\" style = \"font-weight: bold; text-align: right;\">6</td><td style = \"text-align: left;\">Platano</td><td style = \"text-align: right;\">10</td><td style = \"text-align: right;\">1.1</td></tr><tr><td class = \"rowNumber\" style = \"font-weight: bold; text-align: right;\">7</td><td style = \"text-align: left;\">Manzana</td><td style = \"text-align: right;\">14</td><td style = \"text-align: right;\">0.92</td></tr><tr><td class = \"rowNumber\" style = \"font-weight: bold; text-align: right;\">8</td><td style = \"text-align: left;\">Naranja</td><td style = \"text-align: right;\">6</td><td style = \"text-align: right;\">0.55</td></tr><tr><td class = \"rowNumber\" style = \"font-weight: bold; text-align: right;\">9</td><td style = \"text-align: left;\">Platano</td><td style = \"text-align: right;\">9</td><td style = \"text-align: right;\">1.18</td></tr><tr><td class = \"rowNumber\" style = \"font-weight: bold; text-align: right;\">10</td><td style = \"text-align: left;\">Manzana</td><td style = \"text-align: right;\">11</td><td style = \"text-align: right;\">0.75</td></tr><tr><td class = \"rowNumber\" style = \"font-weight: bold; text-align: right;\">11</td><td style = \"text-align: left;\">Naranja</td><td style = \"text-align: right;\">5</td><td style = \"text-align: right;\">0.63</td></tr><tr><td class = \"rowNumber\" style = \"font-weight: bold; text-align: right;\">12</td><td style = \"text-align: left;\">Platano</td><td style = \"text-align: right;\">13</td><td style = \"text-align: right;\">0.98</td></tr><tr><td class = \"rowNumber\" style = \"font-weight: bold; text-align: right;\">13</td><td style = \"text-align: left;\">Manzana</td><td style = \"text-align: right;\">9</td><td style = \"text-align: right;\">0.88</td></tr><tr><td style = \"text-align: right;\">&vellip;</td><td style = \"text-align: right;\">&vellip;</td><td style = \"text-align: right;\">&vellip;</td><td style = \"text-align: right;\">&vellip;</td></tr><tr><td class = \"rowNumber\" style = \"font-weight: bold; text-align: right;\">37</td><td style = \"text-align: left;\">Manzana</td><td style = \"text-align: right;\">15</td><td style = \"text-align: right;\">0.88</td></tr><tr><td class = \"rowNumber\" style = \"font-weight: bold; text-align: right;\">38</td><td style = \"text-align: left;\">Naranja</td><td style = \"text-align: right;\">5</td><td style = \"text-align: right;\">0.55</td></tr><tr><td class = \"rowNumber\" style = \"font-weight: bold; text-align: right;\">39</td><td style = \"text-align: left;\">Platano</td><td style = \"text-align: right;\">11</td><td style = \"text-align: right;\">1.15</td></tr><tr><td class = \"rowNumber\" style = \"font-weight: bold; text-align: right;\">40</td><td style = \"text-align: left;\">Manzana</td><td style = \"text-align: right;\">10</td><td style = \"text-align: right;\">0.78</td></tr><tr><td class = \"rowNumber\" style = \"font-weight: bold; text-align: right;\">41</td><td style = \"text-align: left;\">Naranja</td><td style = \"text-align: right;\">3</td><td style = \"text-align: right;\">0.4</td></tr><tr><td class = \"rowNumber\" style = \"font-weight: bold; text-align: right;\">42</td><td style = \"text-align: left;\">Platano</td><td style = \"text-align: right;\">8</td><td style = \"text-align: right;\">1.02</td></tr><tr><td class = \"rowNumber\" style = \"font-weight: bold; text-align: right;\">43</td><td style = \"text-align: left;\">Manzana</td><td style = \"text-align: right;\">12</td><td style = \"text-align: right;\">0.85</td></tr><tr><td class = \"rowNumber\" style = \"font-weight: bold; text-align: right;\">44</td><td style = \"text-align: left;\">Naranja</td><td style = \"text-align: right;\">7</td><td style = \"text-align: right;\">0.72</td></tr><tr><td class = \"rowNumber\" style = \"font-weight: bold; text-align: right;\">45</td><td style = \"text-align: left;\">Platano</td><td style = \"text-align: right;\">9</td><td style = \"text-align: right;\">1.18</td></tr><tr><td class = \"rowNumber\" style = \"font-weight: bold; text-align: right;\">46</td><td style = \"text-align: left;\">Manzana</td><td style = \"text-align: right;\">6</td><td style = \"text-align: right;\">0.8</td></tr><tr><td class = \"rowNumber\" style = \"font-weight: bold; text-align: right;\">47</td><td style = \"text-align: left;\">Naranja</td><td style = \"text-align: right;\">4</td><td style = \"text-align: right;\">0.48</td></tr><tr><td class = \"rowNumber\" style = \"font-weight: bold; text-align: right;\">48</td><td style = \"text-align: left;\">Platano</td><td style = \"text-align: right;\">16</td><td style = \"text-align: right;\">1.1</td></tr></tbody></table></div>"
      ],
      "text/latex": [
       "\\begin{tabular}{r|ccc}\n",
       "\t& Producto & Cantidad & Venta\\\\\n",
       "\t\\hline\n",
       "\t& String7 & Int64 & Float64\\\\\n",
       "\t\\hline\n",
       "\t1 & Manzana & 15 & 0.85 \\\\\n",
       "\t2 & Naranja & 7 & 0.42 \\\\\n",
       "\t3 & Platano & 12 & 1.25 \\\\\n",
       "\t4 & Manzana & 8 & 0.95 \\\\\n",
       "\t5 & Naranja & 3 & 0.68 \\\\\n",
       "\t6 & Platano & 10 & 1.1 \\\\\n",
       "\t7 & Manzana & 14 & 0.92 \\\\\n",
       "\t8 & Naranja & 6 & 0.55 \\\\\n",
       "\t9 & Platano & 9 & 1.18 \\\\\n",
       "\t10 & Manzana & 11 & 0.75 \\\\\n",
       "\t11 & Naranja & 5 & 0.63 \\\\\n",
       "\t12 & Platano & 13 & 0.98 \\\\\n",
       "\t13 & Manzana & 9 & 0.88 \\\\\n",
       "\t14 & Naranja & 4 & 0.5 \\\\\n",
       "\t15 & Platano & 11 & 1.2 \\\\\n",
       "\t16 & Manzana & 12 & 0.8 \\\\\n",
       "\t17 & Naranja & 6 & 0.78 \\\\\n",
       "\t18 & Platano & 14 & 1.15 \\\\\n",
       "\t19 & Manzana & 10 & 0.93 \\\\\n",
       "\t20 & Naranja & 3 & 0.42 \\\\\n",
       "\t21 & Platano & 8 & 1.05 \\\\\n",
       "\t22 & Manzana & 7 & 0.85 \\\\\n",
       "\t23 & Naranja & 4 & 0.58 \\\\\n",
       "\t24 & Platano & 15 & 1.12 \\\\\n",
       "\t25 & Manzana & 16 & 0.78 \\\\\n",
       "\t26 & Naranja & 7 & 0.65 \\\\\n",
       "\t27 & Platano & 10 & 1.22 \\\\\n",
       "\t28 & Manzana & 9 & 0.9 \\\\\n",
       "\t29 & Naranja & 5 & 0.47 \\\\\n",
       "\t30 & Platano & 12 & 1.18 \\\\\n",
       "\t$\\dots$ & $\\dots$ & $\\dots$ & $\\dots$ \\\\\n",
       "\\end{tabular}\n"
      ],
      "text/plain": [
       "\u001b[1m48×3 DataFrame\u001b[0m\n",
       "\u001b[1m Row \u001b[0m│\u001b[1m Producto \u001b[0m\u001b[1m Cantidad \u001b[0m\u001b[1m Venta   \u001b[0m\n",
       "     │\u001b[90m String7  \u001b[0m\u001b[90m Int64    \u001b[0m\u001b[90m Float64 \u001b[0m\n",
       "─────┼─────────────────────────────\n",
       "   1 │ Manzana         15     0.85\n",
       "   2 │ Naranja          7     0.42\n",
       "   3 │ Platano         12     1.25\n",
       "   4 │ Manzana          8     0.95\n",
       "   5 │ Naranja          3     0.68\n",
       "   6 │ Platano         10     1.1\n",
       "   7 │ Manzana         14     0.92\n",
       "   8 │ Naranja          6     0.55\n",
       "   9 │ Platano          9     1.18\n",
       "  10 │ Manzana         11     0.75\n",
       "  11 │ Naranja          5     0.63\n",
       "  ⋮  │    ⋮         ⋮         ⋮\n",
       "  39 │ Platano         11     1.15\n",
       "  40 │ Manzana         10     0.78\n",
       "  41 │ Naranja          3     0.4\n",
       "  42 │ Platano          8     1.02\n",
       "  43 │ Manzana         12     0.85\n",
       "  44 │ Naranja          7     0.72\n",
       "  45 │ Platano          9     1.18\n",
       "  46 │ Manzana          6     0.8\n",
       "  47 │ Naranja          4     0.48\n",
       "  48 │ Platano         16     1.1\n",
       "\u001b[36m                    27 rows omitted\u001b[0m"
      ]
     },
     "execution_count": 5,
     "metadata": {},
     "output_type": "execute_result"
    }
   ],
   "source": [
    "# Leemos el archivo CSV original y lo almacenamos en un DataFrame\n",
    "using DataFrames\n",
    "using CSV\n",
    "\n",
    "df = CSV.read(\"./../data/ventas.csv\", DataFrame)"
   ]
  },
  {
   "cell_type": "code",
   "execution_count": 8,
   "metadata": {},
   "outputs": [
    {
     "name": "stdout",
     "output_type": "stream",
     "text": [
      "\u001b[1m48×4 DataFrame\u001b[0m\n",
      "\u001b[1m Row \u001b[0m│\u001b[1m Producto \u001b[0m\u001b[1m Cantidad \u001b[0m\u001b[1m Venta   \u001b[0m\u001b[1m Total   \u001b[0m\n",
      "     │\u001b[90m String7  \u001b[0m\u001b[90m Int64    \u001b[0m\u001b[90m Float64 \u001b[0m\u001b[90m Float64 \u001b[0m\n",
      "─────┼──────────────────────────────────────\n",
      "   1 │ Manzana         15     0.85    12.75\n",
      "   2 │ Naranja          7     0.42     2.94\n",
      "   3 │ Platano         12     1.25    15.0\n",
      "   4 │ Manzana          8     0.95     7.6\n",
      "   5 │ Naranja          3     0.68     2.04\n",
      "   6 │ Platano         10     1.1     11.0\n",
      "   7 │ Manzana         14     0.92    12.88\n",
      "   8 │ Naranja          6     0.55     3.3\n",
      "   9 │ Platano          9     1.18    10.62\n",
      "  10 │ Manzana         11     0.75     8.25\n",
      "  11 │ Naranja          5     0.63     3.15\n",
      "  12 │ Platano         13     0.98    12.74\n",
      "  13 │ Manzana          9     0.88     7.92\n",
      "  14 │ Naranja          4     0.5      2.0\n",
      "  15 │ Platano         11     1.2     13.2\n",
      "  16 │ Manzana         12     0.8      9.6\n",
      "  17 │ Naranja          6     0.78     4.68\n",
      "  18 │ Platano         14     1.15    16.1\n",
      "  19 │ Manzana         10     0.93     9.3\n",
      "  20 │ Naranja          3     0.42     1.26\n",
      "  21 │ Platano          8     1.05     8.4\n",
      "  22 │ Manzana          7     0.85     5.95\n",
      "  23 │ Naranja          4     0.58     2.32\n",
      "  24 │ Platano         15     1.12    16.8\n",
      "  25 │ Manzana         16     0.78    12.48\n",
      "  26 │ Naranja          7     0.65     4.55\n",
      "  27 │ Platano         10     1.22    12.2\n",
      "  28 │ Manzana          9     0.9      8.1\n",
      "  29 │ Naranja          5     0.47     2.35\n",
      "  30 │ Platano         12     1.18    14.16\n",
      "  31 │ Manzana         13     0.85    11.05\n",
      "  32 │ Naranja          4     0.53     2.12\n",
      "  33 │ Platano          9     1.1      9.9\n",
      "  34 │ Manzana          8     0.95     7.6\n",
      "  35 │ Naranja          6     0.62     3.72\n",
      "  36 │ Platano         13     1.05    13.65\n",
      "  37 │ Manzana         15     0.88    13.2\n",
      "  38 │ Naranja          5     0.55     2.75\n",
      "  39 │ Platano         11     1.15    12.65\n",
      "  40 │ Manzana         10     0.78     7.8\n",
      "  41 │ Naranja          3     0.4      1.2\n",
      "  42 │ Platano          8     1.02     8.16\n",
      "  43 │ Manzana         12     0.85    10.2\n",
      "  44 │ Naranja          7     0.72     5.04\n",
      "  45 │ Platano          9     1.18    10.62\n",
      "  46 │ Manzana          6     0.8      4.8\n",
      "  47 │ Naranja          4     0.48     1.92\n",
      "  48 │ Platano         16     1.1     17.6\n"
     ]
    }
   ],
   "source": [
    "# Calculamos el total de ventas para cada producto.\n",
    "# Para esto, primero creamos una nueva columna 'Total' que es el producto de 'Cantidad' y 'Venta'\n",
    "\n",
    "df.Total = df.Cantidad .* df.Venta\n",
    "println(df)"
   ]
  },
  {
   "cell_type": "code",
   "execution_count": 11,
   "metadata": {},
   "outputs": [
    {
     "name": "stdout",
     "output_type": "stream",
     "text": [
      "\u001b[1m3×2 DataFrame\u001b[0m\n",
      "\u001b[1m Row \u001b[0m│\u001b[1m Producto \u001b[0m\u001b[1m Suma_Total \u001b[0m\n",
      "     │\u001b[90m String7  \u001b[0m\u001b[90m Float64    \u001b[0m\n",
      "─────┼──────────────────────\n",
      "   1 │ Manzana       149.48\n",
      "   2 │ Naranja        45.34\n",
      "   3 │ Platano       202.8\n"
     ]
    }
   ],
   "source": [
    "# Luego, agrupamos por 'Producto' y sumamos 'Total\n",
    "df_total = combine(groupby(df, :Producto), :Total => sum => :Suma_Total)\n",
    "println(df_total)"
   ]
  },
  {
   "cell_type": "code",
   "execution_count": 12,
   "metadata": {},
   "outputs": [
    {
     "name": "stdout",
     "output_type": "stream",
     "text": [
      "DataFrame de totales de ventas:\n",
      "\u001b[1m3×2 DataFrame\u001b[0m\n",
      "\u001b[1m Row \u001b[0m│\u001b[1m Producto \u001b[0m\u001b[1m Suma_Total \u001b[0m\n",
      "     │\u001b[90m String7  \u001b[0m\u001b[90m Float64    \u001b[0m\n",
      "─────┼──────────────────────\n",
      "   1 │ Manzana       149.48\n",
      "   2 │ Naranja        45.34\n",
      "   3 │ Platano       202.8\n"
     ]
    }
   ],
   "source": [
    "# Mostramos el DataFrame de totales para revisión.\n",
    "println(\"DataFrame de totales de ventas:\")\n",
    "println(df_total)"
   ]
  },
  {
   "cell_type": "code",
   "execution_count": 13,
   "metadata": {},
   "outputs": [
    {
     "data": {
      "text/plain": [
       "\"total_ventas.csv\""
      ]
     },
     "execution_count": 13,
     "metadata": {},
     "output_type": "execute_result"
    }
   ],
   "source": [
    "CSV.write(\"total_ventas.csv\", df_total)"
   ]
  }
 ],
 "metadata": {
  "kernelspec": {
   "display_name": "Julia 1.10.3",
   "language": "julia",
   "name": "julia-1.10"
  },
  "language_info": {
   "file_extension": ".jl",
   "mimetype": "application/julia",
   "name": "julia",
   "version": "1.10.3"
  }
 },
 "nbformat": 4,
 "nbformat_minor": 2
}
